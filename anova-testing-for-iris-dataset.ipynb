{
 "cells": [
  {
   "cell_type": "markdown",
   "id": "5a399e4b",
   "metadata": {
    "id": "ASeZGKEdAK9Z",
    "papermill": {
     "duration": 0.01683,
     "end_time": "2022-01-16T09:02:56.966118",
     "exception": false,
     "start_time": "2022-01-16T09:02:56.949288",
     "status": "completed"
    },
    "tags": []
   },
   "source": [
    "q4\n"
   ]
  },
  {
   "cell_type": "code",
   "execution_count": 1,
   "id": "0cb1c81e",
   "metadata": {
    "execution": {
     "iopub.execute_input": "2022-01-16T09:02:57.001708Z",
     "iopub.status.busy": "2022-01-16T09:02:56.999887Z",
     "iopub.status.idle": "2022-01-16T09:02:58.437813Z",
     "shell.execute_reply": "2022-01-16T09:02:58.438398Z"
    },
    "id": "AJEnNpbHAOC0",
    "outputId": "a82fbf1b-aeae-4886-d9f7-30b099a7046f",
    "papermill": {
     "duration": 1.457579,
     "end_time": "2022-01-16T09:02:58.438700",
     "exception": false,
     "start_time": "2022-01-16T09:02:56.981121",
     "status": "completed"
    },
    "tags": []
   },
   "outputs": [],
   "source": [
    "from sklearn.datasets import load_iris\n",
    "import pandas as pd\n",
    "import seaborn as sns\n",
    "from sklearn.feature_selection import f_classif\n",
    "from sklearn.feature_selection import SelectKBest\n",
    "from scipy.stats import shapiro\n",
    "from scipy import stats\n",
    "import numpy as np\n",
    "import matplotlib.pyplot as plt\n",
    "from statsmodels.stats.multicomp import pairwise_tukeyhsd\n",
    "from statsmodels.sandbox.stats.multicomp import TukeyHSDResults\n",
    "from statsmodels.graphics.factorplots import interaction_plot\n",
    "from pandas.plotting import scatter_matrix"
   ]
  },
  {
   "cell_type": "code",
   "execution_count": 2,
   "id": "fa5125ba",
   "metadata": {
    "execution": {
     "iopub.execute_input": "2022-01-16T09:02:58.472613Z",
     "iopub.status.busy": "2022-01-16T09:02:58.471678Z",
     "iopub.status.idle": "2022-01-16T09:02:58.479639Z",
     "shell.execute_reply": "2022-01-16T09:02:58.480149Z"
    },
    "id": "q9qxuPo3Acrx",
    "papermill": {
     "duration": 0.026508,
     "end_time": "2022-01-16T09:02:58.480324",
     "exception": false,
     "start_time": "2022-01-16T09:02:58.453816",
     "status": "completed"
    },
    "tags": []
   },
   "outputs": [],
   "source": [
    "iris=load_iris()"
   ]
  },
  {
   "cell_type": "code",
   "execution_count": 3,
   "id": "164ba9d8",
   "metadata": {
    "execution": {
     "iopub.execute_input": "2022-01-16T09:02:58.513983Z",
     "iopub.status.busy": "2022-01-16T09:02:58.513043Z",
     "iopub.status.idle": "2022-01-16T09:02:58.522588Z",
     "shell.execute_reply": "2022-01-16T09:02:58.523077Z"
    },
    "id": "mofenrdyAf02",
    "outputId": "882854de-87a4-4545-d6aa-028f02a7ac14",
    "papermill": {
     "duration": 0.027863,
     "end_time": "2022-01-16T09:02:58.523265",
     "exception": false,
     "start_time": "2022-01-16T09:02:58.495402",
     "status": "completed"
    },
    "tags": []
   },
   "outputs": [
    {
     "data": {
      "text/plain": [
       "array([0, 0, 0, 0, 0, 0, 0, 0, 0, 0, 0, 0, 0, 0, 0, 0, 0, 0, 0, 0, 0, 0,\n",
       "       0, 0, 0, 0, 0, 0, 0, 0, 0, 0, 0, 0, 0, 0, 0, 0, 0, 0, 0, 0, 0, 0,\n",
       "       0, 0, 0, 0, 0, 0, 1, 1, 1, 1, 1, 1, 1, 1, 1, 1, 1, 1, 1, 1, 1, 1,\n",
       "       1, 1, 1, 1, 1, 1, 1, 1, 1, 1, 1, 1, 1, 1, 1, 1, 1, 1, 1, 1, 1, 1,\n",
       "       1, 1, 1, 1, 1, 1, 1, 1, 1, 1, 1, 1, 2, 2, 2, 2, 2, 2, 2, 2, 2, 2,\n",
       "       2, 2, 2, 2, 2, 2, 2, 2, 2, 2, 2, 2, 2, 2, 2, 2, 2, 2, 2, 2, 2, 2,\n",
       "       2, 2, 2, 2, 2, 2, 2, 2, 2, 2, 2, 2, 2, 2, 2, 2, 2, 2])"
      ]
     },
     "execution_count": 3,
     "metadata": {},
     "output_type": "execute_result"
    }
   ],
   "source": [
    "iris.target"
   ]
  },
  {
   "cell_type": "code",
   "execution_count": 4,
   "id": "fd44d0fd",
   "metadata": {
    "execution": {
     "iopub.execute_input": "2022-01-16T09:02:58.561844Z",
     "iopub.status.busy": "2022-01-16T09:02:58.560764Z",
     "iopub.status.idle": "2022-01-16T09:02:58.562700Z",
     "shell.execute_reply": "2022-01-16T09:02:58.563315Z"
    },
    "id": "dX2A1pcSAjcp",
    "papermill": {
     "duration": 0.024603,
     "end_time": "2022-01-16T09:02:58.563486",
     "exception": false,
     "start_time": "2022-01-16T09:02:58.538883",
     "status": "completed"
    },
    "tags": []
   },
   "outputs": [],
   "source": [
    "data_iris=pd.DataFrame(iris.data,columns=['sepalLength','sepalWidth','petalLength','petalWidth'])"
   ]
  },
  {
   "cell_type": "code",
   "execution_count": 5,
   "id": "24506feb",
   "metadata": {
    "execution": {
     "iopub.execute_input": "2022-01-16T09:02:58.599065Z",
     "iopub.status.busy": "2022-01-16T09:02:58.598116Z",
     "iopub.status.idle": "2022-01-16T09:02:58.602540Z",
     "shell.execute_reply": "2022-01-16T09:02:58.603126Z"
    },
    "id": "LWnl_441AoGi",
    "papermill": {
     "duration": 0.024102,
     "end_time": "2022-01-16T09:02:58.603296",
     "exception": false,
     "start_time": "2022-01-16T09:02:58.579194",
     "status": "completed"
    },
    "tags": []
   },
   "outputs": [],
   "source": [
    "data_iris1=pd.DataFrame(iris.target,columns=['target'])"
   ]
  },
  {
   "cell_type": "code",
   "execution_count": 6,
   "id": "bb7082b5",
   "metadata": {
    "execution": {
     "iopub.execute_input": "2022-01-16T09:02:58.638388Z",
     "iopub.status.busy": "2022-01-16T09:02:58.637406Z",
     "iopub.status.idle": "2022-01-16T09:02:58.641321Z",
     "shell.execute_reply": "2022-01-16T09:02:58.641923Z"
    },
    "id": "LLntob1TBWyT",
    "papermill": {
     "duration": 0.023117,
     "end_time": "2022-01-16T09:02:58.642088",
     "exception": false,
     "start_time": "2022-01-16T09:02:58.618971",
     "status": "completed"
    },
    "tags": []
   },
   "outputs": [],
   "source": [
    "ID=[]\n",
    "for i in range(0,150):\n",
    "    ID.append(i)"
   ]
  },
  {
   "cell_type": "code",
   "execution_count": 7,
   "id": "555d672c",
   "metadata": {
    "execution": {
     "iopub.execute_input": "2022-01-16T09:02:58.677571Z",
     "iopub.status.busy": "2022-01-16T09:02:58.676620Z",
     "iopub.status.idle": "2022-01-16T09:02:58.682308Z",
     "shell.execute_reply": "2022-01-16T09:02:58.681733Z"
    },
    "id": "53ikwS8vBYcI",
    "papermill": {
     "duration": 0.024549,
     "end_time": "2022-01-16T09:02:58.682448",
     "exception": false,
     "start_time": "2022-01-16T09:02:58.657899",
     "status": "completed"
    },
    "tags": []
   },
   "outputs": [],
   "source": [
    "data=pd.DataFrame(ID,columns=['ID'])"
   ]
  },
  {
   "cell_type": "code",
   "execution_count": 8,
   "id": "cf6646be",
   "metadata": {
    "execution": {
     "iopub.execute_input": "2022-01-16T09:02:58.718088Z",
     "iopub.status.busy": "2022-01-16T09:02:58.717128Z",
     "iopub.status.idle": "2022-01-16T09:02:58.722038Z",
     "shell.execute_reply": "2022-01-16T09:02:58.722555Z"
    },
    "id": "bSjXx3ggBg-C",
    "papermill": {
     "duration": 0.02425,
     "end_time": "2022-01-16T09:02:58.722719",
     "exception": false,
     "start_time": "2022-01-16T09:02:58.698469",
     "status": "completed"
    },
    "tags": []
   },
   "outputs": [],
   "source": [
    "data_iris_new=pd.concat([data_iris,data_iris1,data],axis=1)"
   ]
  },
  {
   "cell_type": "code",
   "execution_count": 9,
   "id": "06dfa799",
   "metadata": {
    "execution": {
     "iopub.execute_input": "2022-01-16T09:02:58.758564Z",
     "iopub.status.busy": "2022-01-16T09:02:58.757607Z",
     "iopub.status.idle": "2022-01-16T09:02:58.763182Z",
     "shell.execute_reply": "2022-01-16T09:02:58.763761Z"
    },
    "id": "ibCvGgdVBntQ",
    "outputId": "4f1c0118-c9dc-473c-d84d-d59ce90c2dc1",
    "papermill": {
     "duration": 0.025214,
     "end_time": "2022-01-16T09:02:58.763959",
     "exception": false,
     "start_time": "2022-01-16T09:02:58.738745",
     "status": "completed"
    },
    "tags": []
   },
   "outputs": [
    {
     "data": {
      "text/plain": [
       "Index(['sepalLength', 'sepalWidth', 'petalLength', 'petalWidth', 'target',\n",
       "       'ID'],\n",
       "      dtype='object')"
      ]
     },
     "execution_count": 9,
     "metadata": {},
     "output_type": "execute_result"
    }
   ],
   "source": [
    "data_iris_new.columns"
   ]
  },
  {
   "cell_type": "code",
   "execution_count": 10,
   "id": "bcadfefe",
   "metadata": {
    "execution": {
     "iopub.execute_input": "2022-01-16T09:02:58.800660Z",
     "iopub.status.busy": "2022-01-16T09:02:58.799694Z",
     "iopub.status.idle": "2022-01-16T09:02:59.094427Z",
     "shell.execute_reply": "2022-01-16T09:02:59.093920Z"
    },
    "id": "C5IoG4MoB22B",
    "outputId": "888d5756-e0ac-4768-a12b-10df5406cf0d",
    "papermill": {
     "duration": 0.314191,
     "end_time": "2022-01-16T09:02:59.094568",
     "exception": false,
     "start_time": "2022-01-16T09:02:58.780377",
     "status": "completed"
    },
    "tags": []
   },
   "outputs": [
    {
     "data": {
      "image/png": "[encoded data removed]",
      "text/plain": [
       "<Figure size 432x288 with 1 Axes>"
      ]
     },
     "metadata": {
      "needs_background": "light"
     },
     "output_type": "display_data"
    }
   ],
   "source": [
    "fig = interaction_plot(data_iris_new.sepalWidth,data_iris_new.target,\n",
    "                       data_iris_new.ID,colors=['red','blue','green'],ms=12)"
   ]
  },
  {
   "cell_type": "code",
   "execution_count": 11,
   "id": "a539d8be",
   "metadata": {
    "execution": {
     "iopub.execute_input": "2022-01-16T09:02:59.137156Z",
     "iopub.status.busy": "2022-01-16T09:02:59.136503Z",
     "iopub.status.idle": "2022-01-16T09:02:59.166667Z",
     "shell.execute_reply": "2022-01-16T09:02:59.166117Z"
    },
    "id": "ISL2RjoTCp_l",
    "outputId": "8711aca2-fe5d-4293-b4f1-6c477e040fdb",
    "papermill": {
     "duration": 0.054624,
     "end_time": "2022-01-16T09:02:59.166817",
     "exception": false,
     "start_time": "2022-01-16T09:02:59.112193",
     "status": "completed"
    },
    "tags": []
   },
   "outputs": [
    {
     "data": {
      "text/html": [
       "<div>\n",
       "<style scoped>\n",
       "    .dataframe tbody tr th:only-of-type {\n",
       "        vertical-align: middle;\n",
       "    }\n",
       "\n",
       "    .dataframe tbody tr th {\n",
       "        vertical-align: top;\n",
       "    }\n",
       "\n",
       "    .dataframe thead th {\n",
       "        text-align: right;\n",
       "    }\n",
       "</style>\n",
       "<table border=\"1\" class=\"dataframe\">\n",
       "  <thead>\n",
       "    <tr style=\"text-align: right;\">\n",
       "      <th></th>\n",
       "      <th>sepalLength</th>\n",
       "      <th>sepalWidth</th>\n",
       "      <th>petalLength</th>\n",
       "      <th>petalWidth</th>\n",
       "      <th>target</th>\n",
       "      <th>ID</th>\n",
       "    </tr>\n",
       "  </thead>\n",
       "  <tbody>\n",
       "    <tr>\n",
       "      <th>count</th>\n",
       "      <td>150.000000</td>\n",
       "      <td>150.000000</td>\n",
       "      <td>150.000000</td>\n",
       "      <td>150.000000</td>\n",
       "      <td>150.000000</td>\n",
       "      <td>150.000000</td>\n",
       "    </tr>\n",
       "    <tr>\n",
       "      <th>mean</th>\n",
       "      <td>5.843333</td>\n",
       "      <td>3.057333</td>\n",
       "      <td>3.758000</td>\n",
       "      <td>1.199333</td>\n",
       "      <td>1.000000</td>\n",
       "      <td>74.500000</td>\n",
       "    </tr>\n",
       "    <tr>\n",
       "      <th>std</th>\n",
       "      <td>0.828066</td>\n",
       "      <td>0.435866</td>\n",
       "      <td>1.765298</td>\n",
       "      <td>0.762238</td>\n",
       "      <td>0.819232</td>\n",
       "      <td>43.445368</td>\n",
       "    </tr>\n",
       "    <tr>\n",
       "      <th>min</th>\n",
       "      <td>4.300000</td>\n",
       "      <td>2.000000</td>\n",
       "      <td>1.000000</td>\n",
       "      <td>0.100000</td>\n",
       "      <td>0.000000</td>\n",
       "      <td>0.000000</td>\n",
       "    </tr>\n",
       "    <tr>\n",
       "      <th>25%</th>\n",
       "      <td>5.100000</td>\n",
       "      <td>2.800000</td>\n",
       "      <td>1.600000</td>\n",
       "      <td>0.300000</td>\n",
       "      <td>0.000000</td>\n",
       "      <td>37.250000</td>\n",
       "    </tr>\n",
       "    <tr>\n",
       "      <th>50%</th>\n",
       "      <td>5.800000</td>\n",
       "      <td>3.000000</td>\n",
       "      <td>4.350000</td>\n",
       "      <td>1.300000</td>\n",
       "      <td>1.000000</td>\n",
       "      <td>74.500000</td>\n",
       "    </tr>\n",
       "    <tr>\n",
       "      <th>75%</th>\n",
       "      <td>6.400000</td>\n",
       "      <td>3.300000</td>\n",
       "      <td>5.100000</td>\n",
       "      <td>1.800000</td>\n",
       "      <td>2.000000</td>\n",
       "      <td>111.750000</td>\n",
       "    </tr>\n",
       "    <tr>\n",
       "      <th>max</th>\n",
       "      <td>7.900000</td>\n",
       "      <td>4.400000</td>\n",
       "      <td>6.900000</td>\n",
       "      <td>2.500000</td>\n",
       "      <td>2.000000</td>\n",
       "      <td>149.000000</td>\n",
       "    </tr>\n",
       "  </tbody>\n",
       "</table>\n",
       "</div>"
      ],
      "text/plain": [
       "       sepalLength  sepalWidth  petalLength  petalWidth      target  \\\n",
       "count   150.000000  150.000000   150.000000  150.000000  150.000000   \n",
       "mean      5.843333    3.057333     3.758000    1.199333    1.000000   \n",
       "std       0.828066    0.435866     1.765298    0.762238    0.819232   \n",
       "min       4.300000    2.000000     1.000000    0.100000    0.000000   \n",
       "25%       5.100000    2.800000     1.600000    0.300000    0.000000   \n",
       "50%       5.800000    3.000000     4.350000    1.300000    1.000000   \n",
       "75%       6.400000    3.300000     5.100000    1.800000    2.000000   \n",
       "max       7.900000    4.400000     6.900000    2.500000    2.000000   \n",
       "\n",
       "               ID  \n",
       "count  150.000000  \n",
       "mean    74.500000  \n",
       "std     43.445368  \n",
       "min      0.000000  \n",
       "25%     37.250000  \n",
       "50%     74.500000  \n",
       "75%    111.750000  \n",
       "max    149.000000  "
      ]
     },
     "execution_count": 11,
     "metadata": {},
     "output_type": "execute_result"
    }
   ],
   "source": [
    "data_iris_new.describe()"
   ]
  },
  {
   "cell_type": "code",
   "execution_count": 12,
   "id": "33414fcf",
   "metadata": {
    "execution": {
     "iopub.execute_input": "2022-01-16T09:02:59.211672Z",
     "iopub.status.busy": "2022-01-16T09:02:59.210595Z",
     "iopub.status.idle": "2022-01-16T09:02:59.219026Z",
     "shell.execute_reply": "2022-01-16T09:02:59.218453Z"
    },
    "id": "dHGAdo0oBEkI",
    "outputId": "c0075b39-1213-4428-95f0-9f4a9c0df60e",
    "papermill": {
     "duration": 0.033706,
     "end_time": "2022-01-16T09:02:59.219169",
     "exception": false,
     "start_time": "2022-01-16T09:02:59.185463",
     "status": "completed"
    },
    "tags": []
   },
   "outputs": [
    {
     "name": "stdout",
     "output_type": "stream",
     "text": [
      "target\n",
      "0    3.428\n",
      "1    2.770\n",
      "2    2.974\n",
      "Name: sepalWidth, dtype: float64\n"
     ]
    }
   ],
   "source": [
    "print(data_iris_new['sepalWidth'].groupby(data_iris_new['target']).mean())"
   ]
  },
  {
   "cell_type": "code",
   "execution_count": 13,
   "id": "ff0a7dc5",
   "metadata": {
    "execution": {
     "iopub.execute_input": "2022-01-16T09:02:59.261762Z",
     "iopub.status.busy": "2022-01-16T09:02:59.260852Z",
     "iopub.status.idle": "2022-01-16T09:02:59.268022Z",
     "shell.execute_reply": "2022-01-16T09:02:59.268528Z"
    },
    "id": "s_oWLQjlCwKm",
    "outputId": "80801c25-8c0c-47a6-ae83-387ef4dd6db4",
    "papermill": {
     "duration": 0.030533,
     "end_time": "2022-01-16T09:02:59.268713",
     "exception": false,
     "start_time": "2022-01-16T09:02:59.238180",
     "status": "completed"
    },
    "tags": []
   },
   "outputs": [
    {
     "data": {
      "text/plain": [
       "sepalLength     5.843333\n",
       "sepalWidth      3.057333\n",
       "petalLength     3.758000\n",
       "petalWidth      1.199333\n",
       "target          1.000000\n",
       "ID             74.500000\n",
       "dtype: float64"
      ]
     },
     "execution_count": 13,
     "metadata": {},
     "output_type": "execute_result"
    }
   ],
   "source": [
    "data_iris_new.mean()"
   ]
  },
  {
   "cell_type": "code",
   "execution_count": 14,
   "id": "91ed7993",
   "metadata": {
    "execution": {
     "iopub.execute_input": "2022-01-16T09:02:59.310487Z",
     "iopub.status.busy": "2022-01-16T09:02:59.309853Z",
     "iopub.status.idle": "2022-01-16T09:02:59.315667Z",
     "shell.execute_reply": "2022-01-16T09:02:59.316276Z"
    },
    "id": "R9fQCeugDdYB",
    "outputId": "8f6d098f-be67-4ae8-fa81-bd758f6a6a40",
    "papermill": {
     "duration": 0.028532,
     "end_time": "2022-01-16T09:02:59.316436",
     "exception": false,
     "start_time": "2022-01-16T09:02:59.287904",
     "status": "completed"
    },
    "tags": []
   },
   "outputs": [
    {
     "data": {
      "text/plain": [
       "ShapiroResult(statistic=0.7824662327766418, pvalue=1.1907719276761652e-13)"
      ]
     },
     "execution_count": 14,
     "metadata": {},
     "output_type": "execute_result"
    }
   ],
   "source": [
    "stats.shapiro(data_iris_new['sepalWidth'][data_iris_new['target']])"
   ]
  },
  {
   "cell_type": "code",
   "execution_count": 15,
   "id": "79b13aa7",
   "metadata": {
    "execution": {
     "iopub.execute_input": "2022-01-16T09:02:59.359416Z",
     "iopub.status.busy": "2022-01-16T09:02:59.358748Z",
     "iopub.status.idle": "2022-01-16T09:02:59.364735Z",
     "shell.execute_reply": "2022-01-16T09:02:59.365326Z"
    },
    "id": "qEaHC_vtDifi",
    "outputId": "cb1016fd-feaa-49f9-95bf-e758284bc595",
    "papermill": {
     "duration": 0.029311,
     "end_time": "2022-01-16T09:02:59.365491",
     "exception": false,
     "start_time": "2022-01-16T09:02:59.336180",
     "status": "completed"
    },
    "tags": []
   },
   "outputs": [
    {
     "data": {
      "text/plain": [
       "LeveneResult(statistic=55.1738582824089, pvalue=1.1695737027924642e-12)"
      ]
     },
     "execution_count": 15,
     "metadata": {},
     "output_type": "execute_result"
    }
   ],
   "source": [
    "# Check equality of variance between groups(levene/bartlett test)\n",
    "\n",
    "p_value=stats.levene(data_iris_new['sepalWidth'],data_iris_new['target'])\n",
    "\n",
    "p_value"
   ]
  },
  {
   "cell_type": "markdown",
   "id": "ab55c33e",
   "metadata": {
    "id": "9SGEIOssDtBJ",
    "papermill": {
     "duration": 0.020215,
     "end_time": "2022-01-16T09:02:59.406529",
     "exception": false,
     "start_time": "2022-01-16T09:02:59.386314",
     "status": "completed"
    },
    "tags": []
   },
   "source": [
    "- Iris dataset for Anova testing.Here, we have only one independent variable i.e. Species(iris-setosa,iris-versicolor,iris-virginica) which are in categorical and we took sepal width as a continous variable. For exmaple, if someone wants looked at sepal width in iris-setosa,iris-versicolor and iris virginica,there would be three species analyzed and therfore three groups to the analysis. In iris dataset we have only one independent variable i.e. Species so we are doing one-way Anova testing."
   ]
  },
  {
   "cell_type": "code",
   "execution_count": 16,
   "id": "11907e50",
   "metadata": {
    "execution": {
     "iopub.execute_input": "2022-01-16T09:02:59.450741Z",
     "iopub.status.busy": "2022-01-16T09:02:59.450121Z",
     "iopub.status.idle": "2022-01-16T09:02:59.454308Z",
     "shell.execute_reply": "2022-01-16T09:02:59.454886Z"
    },
    "id": "qQ4CyYosDuqt",
    "papermill": {
     "duration": 0.027935,
     "end_time": "2022-01-16T09:02:59.455052",
     "exception": false,
     "start_time": "2022-01-16T09:02:59.427117",
     "status": "completed"
    },
    "tags": []
   },
   "outputs": [],
   "source": [
    "F_value,P_value=stats.f_oneway(data_iris_new['sepalWidth'],data_iris_new['target'])"
   ]
  },
  {
   "cell_type": "code",
   "execution_count": 17,
   "id": "32af2e83",
   "metadata": {
    "execution": {
     "iopub.execute_input": "2022-01-16T09:02:59.499633Z",
     "iopub.status.busy": "2022-01-16T09:02:59.499007Z",
     "iopub.status.idle": "2022-01-16T09:02:59.504487Z",
     "shell.execute_reply": "2022-01-16T09:02:59.505073Z"
    },
    "id": "IhgdGFKLD2xX",
    "outputId": "cec8f7d1-ae19-43ab-a6fa-5010d49d8763",
    "papermill": {
     "duration": 0.029711,
     "end_time": "2022-01-16T09:02:59.505249",
     "exception": false,
     "start_time": "2022-01-16T09:02:59.475538",
     "status": "completed"
    },
    "tags": []
   },
   "outputs": [
    {
     "name": "stdout",
     "output_type": "stream",
     "text": [
      "F_value= 737.2872570149498 , P_value= 1.418242288711535e-82\n"
     ]
    }
   ],
   "source": [
    "print(\"F_value=\",F_value,\",\",\"P_value=\",P_value)"
   ]
  },
  {
   "cell_type": "code",
   "execution_count": 18,
   "id": "cab4d535",
   "metadata": {
    "execution": {
     "iopub.execute_input": "2022-01-16T09:02:59.552893Z",
     "iopub.status.busy": "2022-01-16T09:02:59.552218Z",
     "iopub.status.idle": "2022-01-16T09:02:59.557311Z",
     "shell.execute_reply": "2022-01-16T09:02:59.557948Z"
    },
    "id": "T6fc8ZGQD8JA",
    "outputId": "7ea4f1c8-f8df-459e-d9c4-e910ac54074f",
    "papermill": {
     "duration": 0.029763,
     "end_time": "2022-01-16T09:02:59.558140",
     "exception": false,
     "start_time": "2022-01-16T09:02:59.528377",
     "status": "completed"
    },
    "tags": []
   },
   "outputs": [
    {
     "name": "stdout",
     "output_type": "stream",
     "text": [
      "******SAMPLES HAVE DIFFERENT MEAN******\n"
     ]
    }
   ],
   "source": [
    "if F_value>1.0:\n",
    "    print(\"******SAMPLES HAVE DIFFERENT MEAN******\")\n",
    "else:\n",
    "    print(\"******SAMPLES HAVE EQUAL MEAN******\")"
   ]
  },
  {
   "cell_type": "code",
   "execution_count": 19,
   "id": "5f9f8989",
   "metadata": {
    "execution": {
     "iopub.execute_input": "2022-01-16T09:02:59.604884Z",
     "iopub.status.busy": "2022-01-16T09:02:59.604205Z",
     "iopub.status.idle": "2022-01-16T09:02:59.609852Z",
     "shell.execute_reply": "2022-01-16T09:02:59.609320Z"
    },
    "id": "F5guLYRvEBmo",
    "outputId": "1ce2335a-6f06-4944-e37a-d901813ee1e8",
    "papermill": {
     "duration": 0.030117,
     "end_time": "2022-01-16T09:02:59.610003",
     "exception": false,
     "start_time": "2022-01-16T09:02:59.579886",
     "status": "completed"
    },
    "tags": []
   },
   "outputs": [
    {
     "name": "stdout",
     "output_type": "stream",
     "text": [
      "******REJECT NULL HYPOTHESIS******\n"
     ]
    }
   ],
   "source": [
    "if P_value<0.05:\n",
    "    print(\"******REJECT NULL HYPOTHESIS******\")\n",
    "else:\n",
    "    print(\"******ACCEPT NULL HYPOTHESIS******\")"
   ]
  },
  {
   "cell_type": "markdown",
   "id": "2640064b",
   "metadata": {
    "id": "U3Y5y-njEDmm",
    "papermill": {
     "duration": 0.021487,
     "end_time": "2022-01-16T09:02:59.654097",
     "exception": false,
     "start_time": "2022-01-16T09:02:59.632610",
     "status": "completed"
    },
    "tags": []
   },
   "source": [
    "q5"
   ]
  }
 ],
 "metadata": {
  "kernelspec": {
   "display_name": "Python 3",
   "language": "python",
   "name": "python3"
  },
  "language_info": {
   "codemirror_mode": {
    "name": "ipython",
    "version": 3
   },
   "file_extension": ".py",
   "mimetype": "text/x-python",
   "name": "python",
   "nbconvert_exporter": "python",
   "pygments_lexer": "ipython3",
   "version": "3.7.12"
  },
  "papermill": {
   "default_parameters": {},
   "duration": 12.972137,
   "end_time": "2022-01-16T09:03:00.489857",
   "environment_variables": {},
   "exception": null,
   "input_path": "__notebook__.ipynb",
   "output_path": "__notebook__.ipynb",
   "parameters": {},
   "start_time": "2022-01-16T09:02:47.517720",
   "version": "2.3.3"
  }
 },
 "nbformat": 4,
 "nbformat_minor": 5
}
